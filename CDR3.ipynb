{
 "cells": [
  {
   "cell_type": "markdown",
   "metadata": {},
   "source": [
    "Source: \n",
    "https://irweb.irepertoire.com/nir/\n",
    "\n",
    "Username: demo\n",
    "\n",
    "Password: 12345"
   ]
  },
  {
   "cell_type": "code",
   "execution_count": 1,
   "metadata": {},
   "outputs": [
    {
     "name": "stderr",
     "output_type": "stream",
     "text": [
      "/Users/yhc/anaconda3/lib/python3.6/importlib/_bootstrap.py:219: RuntimeWarning: numpy.dtype size changed, may indicate binary incompatibility. Expected 96, got 88\n",
      "  return f(*args, **kwds)\n"
     ]
    }
   ],
   "source": [
    "import numpy as np\n",
    "import matplotlib.pyplot as plt\n",
    "import pandas as pd"
   ]
  },
  {
   "cell_type": "code",
   "execution_count": 2,
   "metadata": {},
   "outputs": [
    {
     "data": {
      "text/html": [
       "<div>\n",
       "<style scoped>\n",
       "    .dataframe tbody tr th:only-of-type {\n",
       "        vertical-align: middle;\n",
       "    }\n",
       "\n",
       "    .dataframe tbody tr th {\n",
       "        vertical-align: top;\n",
       "    }\n",
       "\n",
       "    .dataframe thead th {\n",
       "        text-align: right;\n",
       "    }\n",
       "</style>\n",
       "<table border=\"1\" class=\"dataframe\">\n",
       "  <thead>\n",
       "    <tr style=\"text-align: right;\">\n",
       "      <th></th>\n",
       "      <th>CDR3</th>\n",
       "      <th>Freq</th>\n",
       "    </tr>\n",
       "  </thead>\n",
       "  <tbody>\n",
       "    <tr>\n",
       "      <th>0</th>\n",
       "      <td>ATWDGLRWEYYKKL</td>\n",
       "      <td>4930</td>\n",
       "    </tr>\n",
       "    <tr>\n",
       "      <th>1</th>\n",
       "      <td>ATWDEGYKKL</td>\n",
       "      <td>3733</td>\n",
       "    </tr>\n",
       "    <tr>\n",
       "      <th>2</th>\n",
       "      <td>ATWDRRYYKKL</td>\n",
       "      <td>1946</td>\n",
       "    </tr>\n",
       "    <tr>\n",
       "      <th>3</th>\n",
       "      <td>ATWDSYKKL</td>\n",
       "      <td>1811</td>\n",
       "    </tr>\n",
       "    <tr>\n",
       "      <th>4</th>\n",
       "      <td>ALWEVQIGGYKKL</td>\n",
       "      <td>1798</td>\n",
       "    </tr>\n",
       "    <tr>\n",
       "      <th>5</th>\n",
       "      <td>ATWPLGKKL</td>\n",
       "      <td>1299</td>\n",
       "    </tr>\n",
       "    <tr>\n",
       "      <th>6</th>\n",
       "      <td>ALWEVRYKKL</td>\n",
       "      <td>1201</td>\n",
       "    </tr>\n",
       "    <tr>\n",
       "      <th>7</th>\n",
       "      <td>ALWEVLPTKYGKL</td>\n",
       "      <td>1173</td>\n",
       "    </tr>\n",
       "    <tr>\n",
       "      <th>8</th>\n",
       "      <td>ATWDGSDWIKT</td>\n",
       "      <td>1091</td>\n",
       "    </tr>\n",
       "    <tr>\n",
       "      <th>9</th>\n",
       "      <td>ALWEVPIKL</td>\n",
       "      <td>788</td>\n",
       "    </tr>\n",
       "    <tr>\n",
       "      <th>10</th>\n",
       "      <td>ATWIKKL</td>\n",
       "      <td>773</td>\n",
       "    </tr>\n",
       "    <tr>\n",
       "      <th>11</th>\n",
       "      <td>ALWEVSYYKKL</td>\n",
       "      <td>771</td>\n",
       "    </tr>\n",
       "    <tr>\n",
       "      <th>12</th>\n",
       "      <td>ATWDTRSSDWIKT</td>\n",
       "      <td>764</td>\n",
       "    </tr>\n",
       "    <tr>\n",
       "      <th>13</th>\n",
       "      <td>ALWEDKKL</td>\n",
       "      <td>737</td>\n",
       "    </tr>\n",
       "    <tr>\n",
       "      <th>14</th>\n",
       "      <td>ALKKL</td>\n",
       "      <td>693</td>\n",
       "    </tr>\n",
       "    <tr>\n",
       "      <th>15</th>\n",
       "      <td>ATWCSDWIKT</td>\n",
       "      <td>678</td>\n",
       "    </tr>\n",
       "    <tr>\n",
       "      <th>16</th>\n",
       "      <td>ALWEVRGYKKL</td>\n",
       "      <td>635</td>\n",
       "    </tr>\n",
       "    <tr>\n",
       "      <th>17</th>\n",
       "      <td>ATWDVKKL</td>\n",
       "      <td>631</td>\n",
       "    </tr>\n",
       "    <tr>\n",
       "      <th>18</th>\n",
       "      <td>ATWDLSRL</td>\n",
       "      <td>607</td>\n",
       "    </tr>\n",
       "    <tr>\n",
       "      <th>19</th>\n",
       "      <td>ATWDGNKKL</td>\n",
       "      <td>500</td>\n",
       "    </tr>\n",
       "    <tr>\n",
       "      <th>20</th>\n",
       "      <td>ATSGYKKL</td>\n",
       "      <td>487</td>\n",
       "    </tr>\n",
       "    <tr>\n",
       "      <th>21</th>\n",
       "      <td>ATWDDTGWFKI</td>\n",
       "      <td>449</td>\n",
       "    </tr>\n",
       "    <tr>\n",
       "      <th>22</th>\n",
       "      <td>ATWDTDFYYKKL</td>\n",
       "      <td>377</td>\n",
       "    </tr>\n",
       "    <tr>\n",
       "      <th>23</th>\n",
       "      <td>ALWEANYYKKL</td>\n",
       "      <td>370</td>\n",
       "    </tr>\n",
       "    <tr>\n",
       "      <th>24</th>\n",
       "      <td>ALWEVLKL</td>\n",
       "      <td>368</td>\n",
       "    </tr>\n",
       "    <tr>\n",
       "      <th>25</th>\n",
       "      <td>ATWDTTGWFKI</td>\n",
       "      <td>331</td>\n",
       "    </tr>\n",
       "    <tr>\n",
       "      <th>26</th>\n",
       "      <td>ALWEVQELGKKIKV</td>\n",
       "      <td>330</td>\n",
       "    </tr>\n",
       "    <tr>\n",
       "      <th>27</th>\n",
       "      <td>ATWDFGKL</td>\n",
       "      <td>306</td>\n",
       "    </tr>\n",
       "    <tr>\n",
       "      <th>28</th>\n",
       "      <td>ATWDSCKKL</td>\n",
       "      <td>302</td>\n",
       "    </tr>\n",
       "    <tr>\n",
       "      <th>29</th>\n",
       "      <td>ATWDGYYKKL</td>\n",
       "      <td>298</td>\n",
       "    </tr>\n",
       "    <tr>\n",
       "      <th>...</th>\n",
       "      <td>...</td>\n",
       "      <td>...</td>\n",
       "    </tr>\n",
       "    <tr>\n",
       "      <th>2191</th>\n",
       "      <td>ALWEDYKKL</td>\n",
       "      <td>2</td>\n",
       "    </tr>\n",
       "    <tr>\n",
       "      <th>2192</th>\n",
       "      <td>ALWEDYELGKKIKV</td>\n",
       "      <td>2</td>\n",
       "    </tr>\n",
       "    <tr>\n",
       "      <th>2193</th>\n",
       "      <td>ALWEDDYYYKKL</td>\n",
       "      <td>2</td>\n",
       "    </tr>\n",
       "    <tr>\n",
       "      <th>2194</th>\n",
       "      <td>ALWECREELGKKIKV</td>\n",
       "      <td>2</td>\n",
       "    </tr>\n",
       "    <tr>\n",
       "      <th>2195</th>\n",
       "      <td>ALWECPFDYKKL</td>\n",
       "      <td>2</td>\n",
       "    </tr>\n",
       "    <tr>\n",
       "      <th>2196</th>\n",
       "      <td>ALWEAWNYYKKL</td>\n",
       "      <td>2</td>\n",
       "    </tr>\n",
       "    <tr>\n",
       "      <th>2197</th>\n",
       "      <td>ALWEASYYKKL</td>\n",
       "      <td>2</td>\n",
       "    </tr>\n",
       "    <tr>\n",
       "      <th>2198</th>\n",
       "      <td>ALWEASNYYKKL</td>\n",
       "      <td>2</td>\n",
       "    </tr>\n",
       "    <tr>\n",
       "      <th>2199</th>\n",
       "      <td>ALWEARQELGKKIKV</td>\n",
       "      <td>2</td>\n",
       "    </tr>\n",
       "    <tr>\n",
       "      <th>2200</th>\n",
       "      <td>ALWEARL</td>\n",
       "      <td>2</td>\n",
       "    </tr>\n",
       "    <tr>\n",
       "      <th>2201</th>\n",
       "      <td>ALWEARGYKKL</td>\n",
       "      <td>2</td>\n",
       "    </tr>\n",
       "    <tr>\n",
       "      <th>2202</th>\n",
       "      <td>ALWEARELGKKIKV</td>\n",
       "      <td>2</td>\n",
       "    </tr>\n",
       "    <tr>\n",
       "      <th>2203</th>\n",
       "      <td>ALWEAQKNYYKKL</td>\n",
       "      <td>2</td>\n",
       "    </tr>\n",
       "    <tr>\n",
       "      <th>2204</th>\n",
       "      <td>ALWEAQIGGYKKL</td>\n",
       "      <td>2</td>\n",
       "    </tr>\n",
       "    <tr>\n",
       "      <th>2205</th>\n",
       "      <td>ALWEAPTYYKKL</td>\n",
       "      <td>2</td>\n",
       "    </tr>\n",
       "    <tr>\n",
       "      <th>2206</th>\n",
       "      <td>ALWEAPPNYYKKL</td>\n",
       "      <td>2</td>\n",
       "    </tr>\n",
       "    <tr>\n",
       "      <th>2207</th>\n",
       "      <td>ALWEADQELGKKIKV</td>\n",
       "      <td>2</td>\n",
       "    </tr>\n",
       "    <tr>\n",
       "      <th>2208</th>\n",
       "      <td>ALWDVLKL</td>\n",
       "      <td>2</td>\n",
       "    </tr>\n",
       "    <tr>\n",
       "      <th>2209</th>\n",
       "      <td>ALWDSTGWFKI</td>\n",
       "      <td>2</td>\n",
       "    </tr>\n",
       "    <tr>\n",
       "      <th>2210</th>\n",
       "      <td>ALWDRAELGKKIKV</td>\n",
       "      <td>2</td>\n",
       "    </tr>\n",
       "    <tr>\n",
       "      <th>2211</th>\n",
       "      <td>ALWDGDYKKL</td>\n",
       "      <td>2</td>\n",
       "    </tr>\n",
       "    <tr>\n",
       "      <th>2212</th>\n",
       "      <td>ALWASQELGKKIKV</td>\n",
       "      <td>2</td>\n",
       "    </tr>\n",
       "    <tr>\n",
       "      <th>2213</th>\n",
       "      <td>ALSRWVKI</td>\n",
       "      <td>2</td>\n",
       "    </tr>\n",
       "    <tr>\n",
       "      <th>2214</th>\n",
       "      <td>ALRKL</td>\n",
       "      <td>2</td>\n",
       "    </tr>\n",
       "    <tr>\n",
       "      <th>2215</th>\n",
       "      <td>ALGEKL</td>\n",
       "      <td>2</td>\n",
       "    </tr>\n",
       "    <tr>\n",
       "      <th>2216</th>\n",
       "      <td>ALFLETNYYKKL</td>\n",
       "      <td>2</td>\n",
       "    </tr>\n",
       "    <tr>\n",
       "      <th>2217</th>\n",
       "      <td>ALDLDYYKKL</td>\n",
       "      <td>2</td>\n",
       "    </tr>\n",
       "    <tr>\n",
       "      <th>2218</th>\n",
       "      <td>ALCTTGWFKI</td>\n",
       "      <td>2</td>\n",
       "    </tr>\n",
       "    <tr>\n",
       "      <th>2219</th>\n",
       "      <td>AERLGKKIKV</td>\n",
       "      <td>2</td>\n",
       "    </tr>\n",
       "    <tr>\n",
       "      <th>2220</th>\n",
       "      <td>AAYYYKKL</td>\n",
       "      <td>2</td>\n",
       "    </tr>\n",
       "  </tbody>\n",
       "</table>\n",
       "<p>2221 rows × 2 columns</p>\n",
       "</div>"
      ],
      "text/plain": [
       "                 CDR3  Freq\n",
       "0      ATWDGLRWEYYKKL  4930\n",
       "1          ATWDEGYKKL  3733\n",
       "2         ATWDRRYYKKL  1946\n",
       "3           ATWDSYKKL  1811\n",
       "4       ALWEVQIGGYKKL  1798\n",
       "5           ATWPLGKKL  1299\n",
       "6          ALWEVRYKKL  1201\n",
       "7       ALWEVLPTKYGKL  1173\n",
       "8         ATWDGSDWIKT  1091\n",
       "9           ALWEVPIKL   788\n",
       "10            ATWIKKL   773\n",
       "11        ALWEVSYYKKL   771\n",
       "12      ATWDTRSSDWIKT   764\n",
       "13           ALWEDKKL   737\n",
       "14              ALKKL   693\n",
       "15         ATWCSDWIKT   678\n",
       "16        ALWEVRGYKKL   635\n",
       "17           ATWDVKKL   631\n",
       "18           ATWDLSRL   607\n",
       "19          ATWDGNKKL   500\n",
       "20           ATSGYKKL   487\n",
       "21        ATWDDTGWFKI   449\n",
       "22       ATWDTDFYYKKL   377\n",
       "23        ALWEANYYKKL   370\n",
       "24           ALWEVLKL   368\n",
       "25        ATWDTTGWFKI   331\n",
       "26     ALWEVQELGKKIKV   330\n",
       "27           ATWDFGKL   306\n",
       "28          ATWDSCKKL   302\n",
       "29         ATWDGYYKKL   298\n",
       "...               ...   ...\n",
       "2191        ALWEDYKKL     2\n",
       "2192   ALWEDYELGKKIKV     2\n",
       "2193     ALWEDDYYYKKL     2\n",
       "2194  ALWECREELGKKIKV     2\n",
       "2195     ALWECPFDYKKL     2\n",
       "2196     ALWEAWNYYKKL     2\n",
       "2197      ALWEASYYKKL     2\n",
       "2198     ALWEASNYYKKL     2\n",
       "2199  ALWEARQELGKKIKV     2\n",
       "2200          ALWEARL     2\n",
       "2201      ALWEARGYKKL     2\n",
       "2202   ALWEARELGKKIKV     2\n",
       "2203    ALWEAQKNYYKKL     2\n",
       "2204    ALWEAQIGGYKKL     2\n",
       "2205     ALWEAPTYYKKL     2\n",
       "2206    ALWEAPPNYYKKL     2\n",
       "2207  ALWEADQELGKKIKV     2\n",
       "2208         ALWDVLKL     2\n",
       "2209      ALWDSTGWFKI     2\n",
       "2210   ALWDRAELGKKIKV     2\n",
       "2211       ALWDGDYKKL     2\n",
       "2212   ALWASQELGKKIKV     2\n",
       "2213         ALSRWVKI     2\n",
       "2214            ALRKL     2\n",
       "2215           ALGEKL     2\n",
       "2216     ALFLETNYYKKL     2\n",
       "2217       ALDLDYYKKL     2\n",
       "2218       ALCTTGWFKI     2\n",
       "2219       AERLGKKIKV     2\n",
       "2220         AAYYYKKL     2\n",
       "\n",
       "[2221 rows x 2 columns]"
      ]
     },
     "execution_count": 2,
     "metadata": {},
     "output_type": "execute_result"
    }
   ],
   "source": [
    "#data=pd.read_csv(\"~/Downloads/Demo_Data-Demo/21013_0_CDR3Length.csv\",sep='\\t',index_col=0,names=\"X\")\n",
    "#data=pd.read_csv(\"~/Downloads/Demo_Data-Demo/25671_CDRs.csv\",usecols=[\"Freq\"])\n",
    "data=pd.read_csv(\"~/Downloads/Demo_Data-Demo/21551_CDR3_list_1.csv\",header=None)\n",
    "data.columns=[\"CDR3\",'Freq']\n",
    "data"
   ]
  },
  {
   "cell_type": "code",
   "execution_count": 3,
   "metadata": {},
   "outputs": [
    {
     "data": {
      "text/plain": [
       "8.01452793130937"
      ]
     },
     "execution_count": 3,
     "metadata": {},
     "output_type": "execute_result"
    }
   ],
   "source": [
    "n=len(data) # data.shape[0]\n",
    "if n>10000:\n",
    "    data=data.loc[0:10000-1]\n",
    "    n=len(data)\n",
    "    \n",
    "r=data.Freq\n",
    "totalReads=sum(r)\n",
    "p=r/sum(r)\n",
    "-sum(p*np.log2(p))"
   ]
  },
  {
   "cell_type": "code",
   "execution_count": 4,
   "metadata": {},
   "outputs": [
    {
     "data": {
      "text/plain": [
       "28558"
      ]
     },
     "execution_count": 4,
     "metadata": {},
     "output_type": "execute_result"
    }
   ],
   "source": [
    "totalReads50=round(totalReads/2)\n",
    "totalReads50"
   ]
  },
  {
   "cell_type": "markdown",
   "metadata": {},
   "source": [
    "### Calculate Diversity Index\n",
    "Find where 50% of total reads falls into the cumulative series"
   ]
  },
  {
   "cell_type": "code",
   "execution_count": 5,
   "metadata": {},
   "outputs": [
    {
     "name": "stdout",
     "output_type": "stream",
     "text": [
      "found 50%! i= 25\n",
      "DI=1.1\n"
     ]
    }
   ],
   "source": [
    "y = np.zeros(n+1,dtype=np.int32)\n",
    "y[1]=r[0]\n",
    "for i in range(2,n+1):\n",
    "    y[i]=y[i-1]+r[i-1]\n",
    "    if y[i-1]<totalReads50:\n",
    "        if y[i]>totalReads50:\n",
    "            print(\"found 50%! i=\",i)\n",
    "            DI=i*100/n\n",
    "            print(\"DI={:.2g}\".format(DI) )"
   ]
  },
  {
   "cell_type": "code",
   "execution_count": 6,
   "metadata": {},
   "outputs": [
    {
     "data": {
      "text/plain": [
       "array([   0,    1,    2, ..., 2219, 2220, 2221])"
      ]
     },
     "execution_count": 6,
     "metadata": {},
     "output_type": "execute_result"
    }
   ],
   "source": [
    "k=np.arange(n+1)\n",
    "k"
   ]
  },
  {
   "cell_type": "code",
   "execution_count": 7,
   "metadata": {},
   "outputs": [
    {
     "data": {
      "text/plain": [
       "array([0.00000000e+00, 4.50247636e-04, 9.00495272e-04, ...,\n",
       "       9.99099505e-01, 9.99549752e-01, 1.00000000e+00])"
      ]
     },
     "execution_count": 7,
     "metadata": {},
     "output_type": "execute_result"
    }
   ],
   "source": [
    "x=k/n\n",
    "x"
   ]
  },
  {
   "cell_type": "code",
   "execution_count": 8,
   "metadata": {},
   "outputs": [
    {
     "data": {
      "text/plain": [
       "array([0.00000000e+00, 2.57167942e+01, 5.14335885e+01, ...,\n",
       "       5.70655664e+04, 5.70912832e+04, 5.71170000e+04])"
      ]
     },
     "execution_count": 8,
     "metadata": {},
     "output_type": "execute_result"
    }
   ],
   "source": [
    "y0 = np.zeros(n+1)\n",
    "y0=k/n*sum(r)\n",
    "y0"
   ]
  },
  {
   "cell_type": "code",
   "execution_count": 9,
   "metadata": {},
   "outputs": [
    {
     "data": {
      "text/plain": [
       "Text(0.5,1,'D.I.=1.1')"
      ]
     },
     "execution_count": 9,
     "metadata": {},
     "output_type": "execute_result"
    },
    {
     "data": {
      "image/png": "[encoded data removed]",
      "text/plain": [
       "<Figure size 432x432 with 1 Axes>"
      ]
     },
     "metadata": {},
     "output_type": "display_data"
    }
   ],
   "source": [
    "plt.figure(figsize=(6,6))\n",
    "plt.plot(x*100,y/max(y)*100,'b.-')\n",
    "plt.plot(x*100,y0/max(y0)*100,'g.--')\n",
    "plt.grid(True)\n",
    "plt.rc('grid', linestyle=\"--\", color='black')\n",
    "plt.xlabel(\"Percentage of total reads\")\n",
    "plt.ylabel(\"Percentage of unique CDR3s\")\n",
    "plt.title('D.I.={:.1f}'.format(DI))"
   ]
  },
  {
   "cell_type": "code",
   "execution_count": null,
   "metadata": {},
   "outputs": [],
   "source": []
  }
 ],
 "metadata": {
  "kernelspec": {
   "display_name": "Python 3",
   "language": "python",
   "name": "python3"
  },
  "language_info": {
   "codemirror_mode": {
    "name": "ipython",
    "version": 3
   },
   "file_extension": ".py",
   "mimetype": "text/x-python",
   "name": "python",
   "nbconvert_exporter": "python",
   "pygments_lexer": "ipython3",
   "version": "3.6.5"
  }
 },
 "nbformat": 4,
 "nbformat_minor": 2
}
