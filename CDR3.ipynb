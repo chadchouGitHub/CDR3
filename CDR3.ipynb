{
 "cells": [
  {
   "cell_type": "markdown",
   "metadata": {},
   "source": [
    "Source: \n",
    "https://irweb.irepertoire.com/nir/\n",
    "\n",
    "Username: demo\n",
    "\n",
    "Password: 12345"
   ]
  },
  {
   "cell_type": "code",
   "execution_count": 1,
   "metadata": {},
   "outputs": [
    {
     "name": "stderr",
     "output_type": "stream",
     "text": [
      "/Users/yhc/anaconda3/lib/python3.6/importlib/_bootstrap.py:219: RuntimeWarning: numpy.dtype size changed, may indicate binary incompatibility. Expected 96, got 88\n",
      "  return f(*args, **kwds)\n"
     ]
    }
   ],
   "source": [
    "import numpy as np\n",
    "import matplotlib.pyplot as plt\n",
    "import pandas as pd"
   ]
  },
  {
   "cell_type": "code",
   "execution_count": 2,
   "metadata": {},
   "outputs": [
    {
     "data": {
      "text/html": [
       "<div>\n",
       "<style scoped>\n",
       "    .dataframe tbody tr th:only-of-type {\n",
       "        vertical-align: middle;\n",
       "    }\n",
       "\n",
       "    .dataframe tbody tr th {\n",
       "        vertical-align: top;\n",
       "    }\n",
       "\n",
       "    .dataframe thead th {\n",
       "        text-align: right;\n",
       "    }\n",
       "</style>\n",
       "<table border=\"1\" class=\"dataframe\">\n",
       "  <thead>\n",
       "    <tr style=\"text-align: right;\">\n",
       "      <th></th>\n",
       "      <th>CDR3</th>\n",
       "      <th>Freq</th>\n",
       "    </tr>\n",
       "  </thead>\n",
       "  <tbody>\n",
       "    <tr>\n",
       "      <th>0</th>\n",
       "      <td>AKTTYYYDSSGYQTPYYFDY</td>\n",
       "      <td>7537</td>\n",
       "    </tr>\n",
       "    <tr>\n",
       "      <th>1</th>\n",
       "      <td>ARSAAVVATAFTWRSYKGMDV</td>\n",
       "      <td>1804</td>\n",
       "    </tr>\n",
       "    <tr>\n",
       "      <th>2</th>\n",
       "      <td>ARHGQQLALA</td>\n",
       "      <td>1722</td>\n",
       "    </tr>\n",
       "    <tr>\n",
       "      <th>3</th>\n",
       "      <td>ARILKDSSGWYHFDY</td>\n",
       "      <td>1297</td>\n",
       "    </tr>\n",
       "    <tr>\n",
       "      <th>4</th>\n",
       "      <td>ARGAYSSNYARIDD</td>\n",
       "      <td>1250</td>\n",
       "    </tr>\n",
       "    <tr>\n",
       "      <th>5</th>\n",
       "      <td>ATDQPGFGFEV</td>\n",
       "      <td>1203</td>\n",
       "    </tr>\n",
       "    <tr>\n",
       "      <th>6</th>\n",
       "      <td>AKAQNVQYHAFDI</td>\n",
       "      <td>1098</td>\n",
       "    </tr>\n",
       "    <tr>\n",
       "      <th>7</th>\n",
       "      <td>VRVVPNNYGYGY</td>\n",
       "      <td>978</td>\n",
       "    </tr>\n",
       "    <tr>\n",
       "      <th>8</th>\n",
       "      <td>ARGRGYRESYYAFDI</td>\n",
       "      <td>911</td>\n",
       "    </tr>\n",
       "    <tr>\n",
       "      <th>9</th>\n",
       "      <td>ARRVLPQKNHFDS</td>\n",
       "      <td>859</td>\n",
       "    </tr>\n",
       "    <tr>\n",
       "      <th>10</th>\n",
       "      <td>VTDQVGFGFEI</td>\n",
       "      <td>780</td>\n",
       "    </tr>\n",
       "    <tr>\n",
       "      <th>11</th>\n",
       "      <td>ARRVPEPTGHKYYFDY</td>\n",
       "      <td>754</td>\n",
       "    </tr>\n",
       "    <tr>\n",
       "      <th>12</th>\n",
       "      <td>VKDRGSTIRCYDCTFDI</td>\n",
       "      <td>734</td>\n",
       "    </tr>\n",
       "    <tr>\n",
       "      <th>13</th>\n",
       "      <td>VKSAQYCDSNSCWRGYYSYYLDV</td>\n",
       "      <td>727</td>\n",
       "    </tr>\n",
       "    <tr>\n",
       "      <th>14</th>\n",
       "      <td>ARDPMGAVAATGY</td>\n",
       "      <td>691</td>\n",
       "    </tr>\n",
       "    <tr>\n",
       "      <th>15</th>\n",
       "      <td>AHRRPPDSGDWFDS</td>\n",
       "      <td>690</td>\n",
       "    </tr>\n",
       "    <tr>\n",
       "      <th>16</th>\n",
       "      <td>AREGYSSSWYGPDY</td>\n",
       "      <td>653</td>\n",
       "    </tr>\n",
       "    <tr>\n",
       "      <th>17</th>\n",
       "      <td>ARRLRV</td>\n",
       "      <td>649</td>\n",
       "    </tr>\n",
       "    <tr>\n",
       "      <th>18</th>\n",
       "      <td>ARGYCSSTSCRTGYYYYYMDV</td>\n",
       "      <td>633</td>\n",
       "    </tr>\n",
       "    <tr>\n",
       "      <th>19</th>\n",
       "      <td>VRGNGDSFANFDY</td>\n",
       "      <td>617</td>\n",
       "    </tr>\n",
       "    <tr>\n",
       "      <th>20</th>\n",
       "      <td>ARDGTYFGS</td>\n",
       "      <td>604</td>\n",
       "    </tr>\n",
       "    <tr>\n",
       "      <th>21</th>\n",
       "      <td>ARGQLWFDY</td>\n",
       "      <td>603</td>\n",
       "    </tr>\n",
       "    <tr>\n",
       "      <th>22</th>\n",
       "      <td>AKVPRAFPYYFDF</td>\n",
       "      <td>599</td>\n",
       "    </tr>\n",
       "    <tr>\n",
       "      <th>23</th>\n",
       "      <td>ARGPWESWNYPEADYSFDY</td>\n",
       "      <td>566</td>\n",
       "    </tr>\n",
       "    <tr>\n",
       "      <th>24</th>\n",
       "      <td>SRDTTPQRPIDRALTIFYDALDM</td>\n",
       "      <td>551</td>\n",
       "    </tr>\n",
       "    <tr>\n",
       "      <th>25</th>\n",
       "      <td>AKDGPYSSSLGDFEY</td>\n",
       "      <td>551</td>\n",
       "    </tr>\n",
       "    <tr>\n",
       "      <th>26</th>\n",
       "      <td>TKVRGPQEGADY</td>\n",
       "      <td>546</td>\n",
       "    </tr>\n",
       "    <tr>\n",
       "      <th>27</th>\n",
       "      <td>ARIFAPAAAWFDP</td>\n",
       "      <td>533</td>\n",
       "    </tr>\n",
       "    <tr>\n",
       "      <th>28</th>\n",
       "      <td>VRSKVGFDI</td>\n",
       "      <td>527</td>\n",
       "    </tr>\n",
       "    <tr>\n",
       "      <th>29</th>\n",
       "      <td>ATGCGDCYSGFDY</td>\n",
       "      <td>527</td>\n",
       "    </tr>\n",
       "    <tr>\n",
       "      <th>...</th>\n",
       "      <td>...</td>\n",
       "      <td>...</td>\n",
       "    </tr>\n",
       "    <tr>\n",
       "      <th>106262</th>\n",
       "      <td>AACPPAGRSADSCYSFDY</td>\n",
       "      <td>1</td>\n",
       "    </tr>\n",
       "    <tr>\n",
       "      <th>106263</th>\n",
       "      <td>AACGGSGGSCYHYYAVDV</td>\n",
       "      <td>1</td>\n",
       "    </tr>\n",
       "    <tr>\n",
       "      <th>106264</th>\n",
       "      <td>AACGGSGGSCYHYYAMNV</td>\n",
       "      <td>1</td>\n",
       "    </tr>\n",
       "    <tr>\n",
       "      <th>106265</th>\n",
       "      <td>AACDGSCHLRGADY</td>\n",
       "      <td>1</td>\n",
       "    </tr>\n",
       "    <tr>\n",
       "      <th>106266</th>\n",
       "      <td>AAAYNYGPRSVRENGMDV</td>\n",
       "      <td>1</td>\n",
       "    </tr>\n",
       "    <tr>\n",
       "      <th>106267</th>\n",
       "      <td>AAATSYYVVDY</td>\n",
       "      <td>1</td>\n",
       "    </tr>\n",
       "    <tr>\n",
       "      <th>106268</th>\n",
       "      <td>AAATSRWSYYFDY</td>\n",
       "      <td>1</td>\n",
       "    </tr>\n",
       "    <tr>\n",
       "      <th>106269</th>\n",
       "      <td>AAATRGDYDMRMDV</td>\n",
       "      <td>1</td>\n",
       "    </tr>\n",
       "    <tr>\n",
       "      <th>106270</th>\n",
       "      <td>AAATGKTYYYDFPDYGMDV</td>\n",
       "      <td>1</td>\n",
       "    </tr>\n",
       "    <tr>\n",
       "      <th>106271</th>\n",
       "      <td>AAATGKTHYYDIPDYGMDV</td>\n",
       "      <td>1</td>\n",
       "    </tr>\n",
       "    <tr>\n",
       "      <th>106272</th>\n",
       "      <td>AAATGETYYYDIPDYGMDV</td>\n",
       "      <td>1</td>\n",
       "    </tr>\n",
       "    <tr>\n",
       "      <th>106273</th>\n",
       "      <td>AAASVADYSNYEVLPYYYGMDV</td>\n",
       "      <td>1</td>\n",
       "    </tr>\n",
       "    <tr>\n",
       "      <th>106274</th>\n",
       "      <td>AAASPAGYYDILTGYYGGHTSDY</td>\n",
       "      <td>1</td>\n",
       "    </tr>\n",
       "    <tr>\n",
       "      <th>106275</th>\n",
       "      <td>AAASPAGYYDILTGYYGGHTFDH</td>\n",
       "      <td>1</td>\n",
       "    </tr>\n",
       "    <tr>\n",
       "      <th>106276</th>\n",
       "      <td>AAASPAGHYDILTGYYGGHTFDY</td>\n",
       "      <td>1</td>\n",
       "    </tr>\n",
       "    <tr>\n",
       "      <th>106277</th>\n",
       "      <td>AAARYHYYYGMGV</td>\n",
       "      <td>1</td>\n",
       "    </tr>\n",
       "    <tr>\n",
       "      <th>106278</th>\n",
       "      <td>AAAPVNFGGRGWFDS</td>\n",
       "      <td>1</td>\n",
       "    </tr>\n",
       "    <tr>\n",
       "      <th>106279</th>\n",
       "      <td>AAAPNMIRGGIIGLNFDY</td>\n",
       "      <td>1</td>\n",
       "    </tr>\n",
       "    <tr>\n",
       "      <th>106280</th>\n",
       "      <td>AAAPADPLRTRWWYFDY</td>\n",
       "      <td>1</td>\n",
       "    </tr>\n",
       "    <tr>\n",
       "      <th>106281</th>\n",
       "      <td>AAALTVTSDY</td>\n",
       "      <td>1</td>\n",
       "    </tr>\n",
       "    <tr>\n",
       "      <th>106282</th>\n",
       "      <td>AAALPYCVSSSCSGWFDP</td>\n",
       "      <td>1</td>\n",
       "    </tr>\n",
       "    <tr>\n",
       "      <th>106283</th>\n",
       "      <td>AAAIYGYSHGYGPFDY</td>\n",
       "      <td>1</td>\n",
       "    </tr>\n",
       "    <tr>\n",
       "      <th>106284</th>\n",
       "      <td>AAAHYQLLSFLLDY</td>\n",
       "      <td>1</td>\n",
       "    </tr>\n",
       "    <tr>\n",
       "      <th>106285</th>\n",
       "      <td>AAAHYDILTGYPTSYNWFDP</td>\n",
       "      <td>1</td>\n",
       "    </tr>\n",
       "    <tr>\n",
       "      <th>106286</th>\n",
       "      <td>AAADYGGYMTFDY</td>\n",
       "      <td>1</td>\n",
       "    </tr>\n",
       "    <tr>\n",
       "      <th>106287</th>\n",
       "      <td>AAADYGDYKTFDY</td>\n",
       "      <td>1</td>\n",
       "    </tr>\n",
       "    <tr>\n",
       "      <th>106288</th>\n",
       "      <td>AAADTGMAPPYGLDV</td>\n",
       "      <td>1</td>\n",
       "    </tr>\n",
       "    <tr>\n",
       "      <th>106289</th>\n",
       "      <td>AAADNYDFWSGYYTFDS</td>\n",
       "      <td>1</td>\n",
       "    </tr>\n",
       "    <tr>\n",
       "      <th>106290</th>\n",
       "      <td>AAADNCDFWSGYYTFDY</td>\n",
       "      <td>1</td>\n",
       "    </tr>\n",
       "    <tr>\n",
       "      <th>106291</th>\n",
       "      <td>AAAAKGGDVFEI</td>\n",
       "      <td>1</td>\n",
       "    </tr>\n",
       "  </tbody>\n",
       "</table>\n",
       "<p>106292 rows × 2 columns</p>\n",
       "</div>"
      ],
      "text/plain": [
       "                           CDR3  Freq\n",
       "0          AKTTYYYDSSGYQTPYYFDY  7537\n",
       "1         ARSAAVVATAFTWRSYKGMDV  1804\n",
       "2                    ARHGQQLALA  1722\n",
       "3               ARILKDSSGWYHFDY  1297\n",
       "4                ARGAYSSNYARIDD  1250\n",
       "5                   ATDQPGFGFEV  1203\n",
       "6                 AKAQNVQYHAFDI  1098\n",
       "7                  VRVVPNNYGYGY   978\n",
       "8               ARGRGYRESYYAFDI   911\n",
       "9                 ARRVLPQKNHFDS   859\n",
       "10                  VTDQVGFGFEI   780\n",
       "11             ARRVPEPTGHKYYFDY   754\n",
       "12            VKDRGSTIRCYDCTFDI   734\n",
       "13      VKSAQYCDSNSCWRGYYSYYLDV   727\n",
       "14                ARDPMGAVAATGY   691\n",
       "15               AHRRPPDSGDWFDS   690\n",
       "16               AREGYSSSWYGPDY   653\n",
       "17                       ARRLRV   649\n",
       "18        ARGYCSSTSCRTGYYYYYMDV   633\n",
       "19                VRGNGDSFANFDY   617\n",
       "20                    ARDGTYFGS   604\n",
       "21                    ARGQLWFDY   603\n",
       "22                AKVPRAFPYYFDF   599\n",
       "23          ARGPWESWNYPEADYSFDY   566\n",
       "24      SRDTTPQRPIDRALTIFYDALDM   551\n",
       "25              AKDGPYSSSLGDFEY   551\n",
       "26                 TKVRGPQEGADY   546\n",
       "27                ARIFAPAAAWFDP   533\n",
       "28                    VRSKVGFDI   527\n",
       "29                ATGCGDCYSGFDY   527\n",
       "...                         ...   ...\n",
       "106262       AACPPAGRSADSCYSFDY     1\n",
       "106263       AACGGSGGSCYHYYAVDV     1\n",
       "106264       AACGGSGGSCYHYYAMNV     1\n",
       "106265           AACDGSCHLRGADY     1\n",
       "106266       AAAYNYGPRSVRENGMDV     1\n",
       "106267              AAATSYYVVDY     1\n",
       "106268            AAATSRWSYYFDY     1\n",
       "106269           AAATRGDYDMRMDV     1\n",
       "106270      AAATGKTYYYDFPDYGMDV     1\n",
       "106271      AAATGKTHYYDIPDYGMDV     1\n",
       "106272      AAATGETYYYDIPDYGMDV     1\n",
       "106273   AAASVADYSNYEVLPYYYGMDV     1\n",
       "106274  AAASPAGYYDILTGYYGGHTSDY     1\n",
       "106275  AAASPAGYYDILTGYYGGHTFDH     1\n",
       "106276  AAASPAGHYDILTGYYGGHTFDY     1\n",
       "106277            AAARYHYYYGMGV     1\n",
       "106278          AAAPVNFGGRGWFDS     1\n",
       "106279       AAAPNMIRGGIIGLNFDY     1\n",
       "106280        AAAPADPLRTRWWYFDY     1\n",
       "106281               AAALTVTSDY     1\n",
       "106282       AAALPYCVSSSCSGWFDP     1\n",
       "106283         AAAIYGYSHGYGPFDY     1\n",
       "106284           AAAHYQLLSFLLDY     1\n",
       "106285     AAAHYDILTGYPTSYNWFDP     1\n",
       "106286            AAADYGGYMTFDY     1\n",
       "106287            AAADYGDYKTFDY     1\n",
       "106288          AAADTGMAPPYGLDV     1\n",
       "106289        AAADNYDFWSGYYTFDS     1\n",
       "106290        AAADNCDFWSGYYTFDY     1\n",
       "106291             AAAAKGGDVFEI     1\n",
       "\n",
       "[106292 rows x 2 columns]"
      ]
     },
     "execution_count": 2,
     "metadata": {},
     "output_type": "execute_result"
    }
   ],
   "source": [
    "#data=pd.read_csv(\"~/Downloads/Demo_Data-Demo/21013_0_CDR3Length.csv\",sep='\\t',index_col=0,names=\"X\")\n",
    "#data=pd.read_csv(\"~/Downloads/Demo_Data-Demo/25671_CDRs.csv\",usecols=[\"Freq\"])\n",
    "#data=pd.read_csv(\"~/Downloads/Demo_Data-Demo/21551_CDR3_list_1.csv\",header=None)\n",
    "data=pd.read_csv(\"~/Downloads/Demo_Data-Demo/21747_CDR3_list_1.csv\",header=None)\n",
    "data.columns=[\"CDR3\",'Freq']\n",
    "data"
   ]
  },
  {
   "cell_type": "code",
   "execution_count": 3,
   "metadata": {},
   "outputs": [],
   "source": [
    "n=len(data) # data.shape[0]\n",
    "if n>10000:\n",
    "    data=data.loc[0:10000-1]\n",
    "    n=len(data)\n",
    "    \n",
    "r=data.Freq\n",
    "totalReads=sum(r)"
   ]
  },
  {
   "cell_type": "markdown",
   "metadata": {},
   "source": [
    "### Calculate entropy"
   ]
  },
  {
   "cell_type": "code",
   "execution_count": 4,
   "metadata": {},
   "outputs": [
    {
     "data": {
      "text/plain": [
       "12.953384593183358"
      ]
     },
     "execution_count": 4,
     "metadata": {},
     "output_type": "execute_result"
    }
   ],
   "source": [
    "p=r/sum(r)\n",
    "-sum(p*np.log2(p))"
   ]
  },
  {
   "cell_type": "markdown",
   "metadata": {},
   "source": [
    "### Calculate Diversity Index\n",
    "Find where 50% of total reads falls into the cumulative series"
   ]
  },
  {
   "cell_type": "code",
   "execution_count": 5,
   "metadata": {},
   "outputs": [
    {
     "data": {
      "text/plain": [
       "367766"
      ]
     },
     "execution_count": 5,
     "metadata": {},
     "output_type": "execute_result"
    }
   ],
   "source": [
    "totalReads50=round(totalReads/2)\n",
    "totalReads50"
   ]
  },
  {
   "cell_type": "code",
   "execution_count": 6,
   "metadata": {},
   "outputs": [
    {
     "name": "stdout",
     "output_type": "stream",
     "text": [
      "found 50%! i= 2818\n",
      "DI=28.2\n"
     ]
    }
   ],
   "source": [
    "y = np.zeros(n+1,dtype=np.int32)\n",
    "y[1]=r[0]\n",
    "for i in range(2,n+1):\n",
    "    y[i]=y[i-1]+r[i-1]\n",
    "    if y[i-1]<totalReads50:\n",
    "        if y[i]>totalReads50:\n",
    "            print(\"found 50%! i=\",i)\n",
    "            DI=i*100/n\n",
    "            print(\"DI={:.1f}\".format(DI) )"
   ]
  },
  {
   "cell_type": "code",
   "execution_count": 7,
   "metadata": {},
   "outputs": [
    {
     "data": {
      "text/plain": [
       "array([    0,     1,     2, ...,  9998,  9999, 10000])"
      ]
     },
     "execution_count": 7,
     "metadata": {},
     "output_type": "execute_result"
    }
   ],
   "source": [
    "k=np.arange(n+1)\n",
    "k"
   ]
  },
  {
   "cell_type": "code",
   "execution_count": 8,
   "metadata": {},
   "outputs": [
    {
     "data": {
      "text/plain": [
       "array([0.000e+00, 1.000e-04, 2.000e-04, ..., 9.998e-01, 9.999e-01,\n",
       "       1.000e+00])"
      ]
     },
     "execution_count": 8,
     "metadata": {},
     "output_type": "execute_result"
    }
   ],
   "source": [
    "x=k/n\n",
    "x"
   ]
  },
  {
   "cell_type": "code",
   "execution_count": 9,
   "metadata": {},
   "outputs": [
    {
     "data": {
      "text/plain": [
       "array([0.00000000e+00, 7.35533000e+01, 1.47106600e+02, ...,\n",
       "       7.35385893e+05, 7.35459447e+05, 7.35533000e+05])"
      ]
     },
     "execution_count": 9,
     "metadata": {},
     "output_type": "execute_result"
    }
   ],
   "source": [
    "y0 = np.zeros(n+1)\n",
    "y0=k/n*sum(r)\n",
    "y0"
   ]
  },
  {
   "cell_type": "code",
   "execution_count": 10,
   "metadata": {},
   "outputs": [
    {
     "data": {
      "text/plain": [
       "Text(0.5,1,'D.I.=28.2')"
      ]
     },
     "execution_count": 10,
     "metadata": {},
     "output_type": "execute_result"
    },
    {
     "data": {
      "image/png": "[encoded data removed]",
      "text/plain": [
       "<Figure size 432x432 with 1 Axes>"
      ]
     },
     "metadata": {},
     "output_type": "display_data"
    }
   ],
   "source": [
    "plt.figure(figsize=(6,6))\n",
    "plt.plot(x*100,y/max(y)*100,'b.-')\n",
    "plt.plot(x*100,y0/max(y0)*100,'g.--')\n",
    "plt.grid(True)\n",
    "plt.rc('grid', linestyle=\"--\", color='black')\n",
    "plt.xlabel(\"Percentage of total reads\")\n",
    "plt.ylabel(\"Percentage of unique CDR3s\")\n",
    "plt.title('D.I.={:.1f}'.format(DI))"
   ]
  },
  {
   "cell_type": "code",
   "execution_count": null,
   "metadata": {},
   "outputs": [],
   "source": []
  }
 ],
 "metadata": {
  "kernelspec": {
   "display_name": "Python 3",
   "language": "python",
   "name": "python3"
  },
  "language_info": {
   "codemirror_mode": {
    "name": "ipython",
    "version": 3
   },
   "file_extension": ".py",
   "mimetype": "text/x-python",
   "name": "python",
   "nbconvert_exporter": "python",
   "pygments_lexer": "ipython3",
   "version": "3.6.5"
  }
 },
 "nbformat": 4,
 "nbformat_minor": 2
}
